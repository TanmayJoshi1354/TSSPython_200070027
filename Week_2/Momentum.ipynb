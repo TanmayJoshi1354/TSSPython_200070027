{
 "cells": [
  {
   "cell_type": "markdown",
   "metadata": {
    "id": "U1k32GLIm1o5"
   },
   "source": [
    "## Momentum \n",
    "\n",
    "Momentum-based Trading is based on the assumption that Stocks which have performed will in the past, will perform better in the coming future.\n",
    " \n",
    "To define 'past', we take a variable **N**, and say that : \n",
    "\n",
    "<centre> Momentum(For A particular stock) = Close Price(Today) - Close Price(N-day ago) </centre>\n",
    "\n",
    "This gives us our first hyper-parameter (parameters of the model which could be changed in order to improve the model) : **N**\n",
    "\n",
    "We would also be reshuffling our [Portfolio](https://www.investopedia.com/terms/p/portfolio.asp) at certain intervals of time, which gives us our second hyper-parameter: **T** (The time after which we'll be reshuffling our Portfolio)\n",
    "\n",
    "Its never suggested to keep all your money invested, you must have some risk-free assets as well, so that even if you lose some of your cash in trading, you could still place better bets and regain that lost cash, Thus, We get our third Hyper-parameter: **R**, The Ratio of Total Balance, which we will using for investing.\n",
    "\n",
    "You will not be investing in all the 30 Tickers now, Will you? You will choose the top few stocks, which show the highest promise in terms of Momentum, which brings us to another hyper-parameter: **M**, The Number of Top few stocks (based on Momentum), which you'll keep in your Portfolio.\n",
    "\n",
    "Finally, There's some brokerage fee which you need to pay in order to place orders on the stock market, typically its less than 0.5% of the total amount : **F**\n"
   ]
  },
  {
   "cell_type": "code",
   "execution_count": 1,
   "metadata": {
    "id": "GpkE6S0ZjSlB"
   },
   "outputs": [],
   "source": [
    "#Importing Required Libraries\n",
    "import pandas as pd\n",
    "import numpy as np\n",
    "import datetime\n",
    "import matplotlib.pyplot as plt\n",
    "import seaborn as sns\n",
    "\n",
    "#Declaring the Hyperparameters\n",
    "\n",
    "N = 50\n",
    "T = 7\n",
    "R = 0.8\n",
    "M = 5\n",
    "F = 0.005   # 0.5% Brokerage fee"
   ]
  },
  {
   "cell_type": "markdown",
   "metadata": {
    "id": "DwPazs3-q618"
   },
   "source": [
    "The Second step would be to define a function which reads the Prices of various Stocks into memory.\n",
    "\n",
    "In the file DATA.csv , which we had uploaded in our repository, we have prices of 30 firms enlisted in S & P 500 Index (Apple, IBM, Cisco, Walmart and the like!) from 2nd January 2009 to 17th August 2020.\n",
    "\n",
    "For our purposes, We'll only be requiring certain columns. On an honest note, Just getting the Columns on Ticker, Date and Adjusted Closing Price would do the job, but if you want, you may take Opening Price as well.\n",
    "\n",
    "Read up about the [pandas.read_csv](https://pandas.pydata.org/docs/reference/api/pandas.read_csv.html) function from here, and figure out how you'll use it to do the job (You don't need all the columns!) "
   ]
  },
  {
   "cell_type": "code",
   "execution_count": 2,
   "metadata": {
    "id": "9rsbAPafuUk1"
   },
   "outputs": [],
   "source": [
    "def GetData(NameOfFile):\n",
    "  #START CODE HERE\n",
    "  df=pd.DataFrame(pd.read_csv(NameOfFile))\n",
    "  return df  # pd.DataFrame Object"
   ]
  },
  {
   "cell_type": "markdown",
   "metadata": {
    "id": "qkWJ29Kquf2B"
   },
   "source": [
    "To aid Data-Manipulation, it would be beneficial, if we split the DataFrame into many small parts each corresponding to the data corresponding to the 30 Tickers on a particular date. These small parts could then be stored in a list.\n",
    "\n",
    "We would also be needing to remember which date is at what index, so that we can use that later. "
   ]
  },
  {
   "cell_type": "code",
   "execution_count": 3,
   "metadata": {
    "id": "d4HLxmu9HTl8",
    "scrolled": true
   },
   "outputs": [],
   "source": [
    "def PartitionData(Data):\n",
    "    DateToIndex = {}\n",
    "    shapeData=Data.shape\n",
    "    df_split=np.array_split(Data,(shapeData[0])/30.0)\n",
    "    PartitionedData=list(df_split)\n",
    "    l=len(PartitionedData)\n",
    "    i=0\n",
    "    while(i<l):\n",
    "        minidf=pd.DataFrame(PartitionedData[i])\n",
    "        datelist=list(minidf.datadate)\n",
    "        date=datelist[0]\n",
    "        DateToIndex[date]=i\n",
    "        i+=1\n",
    "    return PartitionedData, DateToIndex    # List containing of the Data Partitioned according to Date, and the Dictionary mapping Dates to their index in the list "
   ]
  },
  {
   "cell_type": "markdown",
   "metadata": {
    "id": "peRRNuUQOnVM"
   },
   "source": [
    "Now, We need a function to calculate the Momentum value for all of our 30 Tickers.\n",
    "To do this, We need to have a few things in mind:\n",
    "\n",
    "\n",
    "1.   We need to start at Nth day in our list, as only then we'll be able to calculate the Momentum (This will be taken care of by later parts of the Program, when we actually run the Model)\n",
    "\n",
    "2.   The Stock Market isn't open on all days, so we often won't be able to go N days behind, and will have to take the closest value instead(We can't just go N entries behind in the List we created and expect that to work, Why?) In order to work with dates, you should get to know more about the datetime library of Python from [here](https://thispointer.com/python-how-to-convert-datetime-object-to-string-using-datetime-strftime/) (Especially the datetime.strftime() function) and about the [datetime.timedelta()](https://www.studytonight.com/python-howtos/how-to-add-days-to-date-in-python) function.\n",
    "\n",
    "Also, as you may have figured it out yourself, while DataFrames are great for Data Handling and small statistical calculations, They aren't so for big calculations as the Numpy Library has both a richer variety of functions for such manipulations and is also more efficient!\n",
    "\n",
    "After we calculate the Momentum for all our Tickers, it would be a great thing to do, if we could divide their prices by their mean(in the N day interval, as we need to see which stock outperforms others and in order to do this, it won't be fair if we take the absolute growth in numbers!(Why?)\n",
    "\n"
   ]
  },
  {
   "cell_type": "code",
   "execution_count": 4,
   "metadata": {
    "id": "tMKHAcBnSG5n"
   },
   "outputs": [],
   "source": [
    "def GetMomentumBasedPriority(PartitionedDataFrameList, DateToIndex ,today):\n",
    "    # PartitionedDataFrameList : Pandas DataFrame, The Output of your last function\n",
    "    # DateToIndex : Dictionary mapping dates to their index in the PartitionedDataFrameList\n",
    "    # today :  Today's date (string) In Format: YYYYMMDD\n",
    "  \n",
    "\n",
    "    #NdaysAgo is a datatime.date() object contining the required data, you need to convert it to a string and then check if its\n",
    "    #actually there in the Data you have or will you have to get going using some other nearest date\n",
    "\n",
    "    NdaysAgo = datetime.date(int(today[0:4]),int(today[4:6]),int(today[6:])) + datetime.timedelta(days = -N)\n",
    "\n",
    "    #START CODE HERE!\n",
    "    todayInt=int(today)\n",
    "    momenta=np.zeros(30,dtype=float)\n",
    "    averages=np.zeros(30,dtype=float)\n",
    "\n",
    "    listOfDates= np.fromiter(DateToIndex.keys(),dtype=int)\n",
    "    dateN=int(NdaysAgo.strftime('%Y%m%d'))\n",
    "    dateNN=str(dateN)\n",
    "    daten=datetime.date(int(dateNN[0:4]),int(dateNN[4:6]),int(dateNN[6:]))\n",
    "    while( dateN not in listOfDates):\n",
    "        daten+=datetime.timedelta(days = 1)\n",
    "        dateN=int(daten.strftime('%Y%m%d'))\n",
    "\n",
    "    EarlyIndex=DateToIndex[dateN]\n",
    "    LaterIndex=DateToIndex[todayInt]\n",
    "    spare2=pd.DataFrame(PartitionedDataFrameList[LaterIndex])\n",
    "    spare3=pd.DataFrame(PartitionedDataFrameList[EarlyIndex])\n",
    "    for i in range(30):\n",
    "        momenta[i]=(spare2.adjcp[i+30*LaterIndex] )- (spare3.adjcp[i+30*EarlyIndex] )\n",
    "        for j in range(EarlyIndex,LaterIndex+1):\n",
    "            averages[i]+=(PartitionedDataFrameList[j]).adjcp[i+30*j]  \n",
    "        averages[i]=float(averages[i])/30.0  \n",
    "        momenta[i]=float(momenta[i])/(averages[i])\n",
    "    return momenta   #Numpy Array containing the Momentum divided by mean(in the N-day period considered) of all the 30 tickers, in the required order.\n",
    "\n"
   ]
  },
  {
   "cell_type": "markdown",
   "metadata": {
    "id": "s5QOHJ9Ra00l"
   },
   "source": [
    "Even after you have got your Momentum-based priorities, and have decided which stocks to buy and what will be the weight of each, you still need to figure out how much of each will you buy. To do this, first you'll sell all your pre-owned stocks which will increase your cash in hand, then you'll know the stocks to buy and their relative weights (given by their Momentum/mean) and you need a function which tells you how many stocks to buy for each ticker!"
   ]
  },
  {
   "cell_type": "code",
   "execution_count": 5,
   "metadata": {
    "id": "cQg8OWVg_qo5"
   },
   "outputs": [],
   "source": [
    "def GetBalanced(prices, weights,balance):\n",
    "    # prices : Numpy array containing Prices of all the 30 Stocks\n",
    "    # weights : Multi-hot Numpy Array : The Elements corresponding to stocks which are to be bought(Top M Stocks with positive Momentum Indicator) are set to their priority, All other elements are set to zero.\n",
    "    # Returns Numpy array containing the number of shares to buy for each stock!\n",
    "    money=np.zeros(30,dtype=float)\n",
    "    number=np.zeros(30,dtype=int)\n",
    "    Dict_mapping={}\n",
    "    for i in range(30):\n",
    "        if(weights[i]<0):\n",
    "            weights[i]=0\n",
    "    \n",
    "    netWeight=0\n",
    "    AscendingWeights=np.sort(weights)\n",
    "    DescendingWeights=AscendingWeights[::-1]\n",
    "    \n",
    "    for i in range(M):\n",
    "        netWeight+=DescendingWeights[i]\n",
    "    for i in range(30):\n",
    "        current=DescendingWeights[i]\n",
    "        j=0\n",
    "        \n",
    "        while(current!=0):\n",
    "            if(weights[j] == current ):\n",
    "                \n",
    "                break\n",
    "            else:\n",
    "                j+=1\n",
    "        Dict_mapping[i]=j \n",
    "        \n",
    "        i+=1\n",
    "    \n",
    "    for i in range(M):\n",
    "        if(DescendingWeights[i]!=0):\n",
    "            p=Dict_mapping[i]\n",
    "            money[p]=((DescendingWeights[i])*balance)/(netWeight)\n",
    "            number[p]=(prices[p])/(money[p])       \n",
    "    return(number)    \n",
    "\n",
    "\n",
    "  \n",
    "   "
   ]
  },
  {
   "cell_type": "markdown",
   "metadata": {
    "id": "WWN9ri-rIb3e"
   },
   "source": [
    "Now, We need something to simulate our [Portfolio](https://www.investopedia.com/terms/p/portfolio.asp). In order to do that we need a class, which has certain  basic features and functionalities.\n",
    "\n",
    "Features : \n",
    "\n",
    "\n",
    "1.   Your Initial Balance\n",
    "2.   Your Current Balance\n",
    "3.   A list(/any other container) storing the number of stocks of each ticker currently in possession. (Numpy Array prefered)\n",
    "4.   Most recent prices of all the stocks (As a Numpy array)\n",
    "\n",
    "Functionalities: \n",
    "\n",
    "\n",
    "\n",
    "1.   Calculating current Net Worth (Balance+Total Evaluation of all Stocks owned!) \n",
    "2.   Buying a Particular Stock (Keep the Transaction fee in mind!)\n",
    "3.   Selling a particular Stock whole (Keep the Transaction Fee in mind!)\n",
    "4.   Rebalance Portfolio  (Takes Numpy array as input)\n",
    "5.   Function to change the value of most recent prices stored (Takes Numpy array as input)\n",
    "\n",
    "\n",
    "\n"
   ]
  },
  {
   "cell_type": "code",
   "execution_count": 6,
   "metadata": {
    "id": "gi60d9qUNO0_"
   },
   "outputs": [],
   "source": [
    "class PortFolio:\n",
    "    \n",
    "    def __init__(self,InitBal,CurrBal,StocksOwned,Stockprices):\n",
    "        self.InitBal=InitBal\n",
    "        self.CurrBal=CurrBal\n",
    "        self.StocksOwned=StocksOwned\n",
    "        self.Stockprices=Stockprices\n",
    "    def SellStock(self,index):\n",
    "        price=self.Stockprices[index]\n",
    "        NetMoney=(price-F)*self.StocksOwned[index]\n",
    "        self.CurrBal=self.CurrBal+NetMoney\n",
    "        self.StocksOwned[index]=0\n",
    "    #index : The index of the Stock to sell (0-29)\n",
    "    \n",
    "    def BuyStock(self,index, number):\n",
    "        price=self.Stockprices[index]\n",
    "        NetMoney=(price+F)*number\n",
    "        self.CurrBal=self.CurrBal-NetMoney\n",
    "        self.StocksOwned[index]+=number\n",
    "    #index : The index of the Stock to buy (0-29) \n",
    "    #number : Number of shares to buy (float)\n",
    "\n",
    "    def CalculateNetWorth(self):\n",
    "        Networth=self.CurrBal\n",
    "        for i in range(30):\n",
    "            Networth+=((self.StocksOwned[i])*(self.Stockprices[i]))\n",
    "        return Networth    \n",
    "    #Return Net Worth (All Shares' costs+ Balance)\n",
    "\n",
    "\n",
    "    def ChangePricesTo(self,newPriceVector):\n",
    "        self.Stockprices=newPriceVector\n",
    "    # newPriceVector : Numpy array containing the prices of all the stocks for the current day\n",
    "\n",
    "\n",
    "    def RebalancePortFolio(self,newWeights):  \n",
    "        \n",
    "        for i in range(30):\n",
    "            self.SellStock(i)\n",
    "        \n",
    "        number=GetBalanced(self.Stockprices,newWeights,self.CurrBal)\n",
    "        for i in range(30):\n",
    "            self.BuyStock(i,number[i])\n",
    "            \n",
    "        \n",
    "    # newWeights : Numpy array containing Momentum/Mean for all stocks in the N-day period\n",
    "    # First sell all your pre-owned Stock (make sure to take transaction fee into account!)\n",
    "    # This would change your total balance\n",
    "    # Then take the top M(/might be less than M, if >(30-M) had negative Momentum) and send them to the GetBalanced() Function\n",
    "    # Then take that output and pass them to the BuyStocks function!\n",
    "\n",
    "    \n",
    "\n",
    "\n",
    "\n"
   ]
  },
  {
   "cell_type": "markdown",
   "metadata": {
    "id": "PKiLs-6TB6mU"
   },
   "source": [
    "With that the difficult part is over!\n",
    "\n",
    "Now, all you need to work on is a main loop, which calls all these functions"
   ]
  },
  {
   "cell_type": "code",
   "execution_count": 7,
   "metadata": {
    "id": "zjo2KrcaCmqf",
    "scrolled": true
   },
   "outputs": [],
   "source": [
    "\n",
    "\n",
    "\n",
    "#First Get the Data\n",
    "Data = GetData(\"DATA.csv\")\n",
    "PartitionedData, DateToIndex= PartitionData(Data)\n",
    "\n",
    "#\n",
    "list1=np.zeros(30,dtype=int)\n",
    "df=PartitionedData[N]\n",
    "prices=df['adjcp'].to_numpy()\n",
    "myPortfolio = PortFolio(1000,1000,list1,prices)\n",
    "NetWorthAfterEachTrade = []\n",
    "\n",
    "\n",
    "#Start processing from the (N+1)th Day(among the ones recorded in the Data)\n",
    "for i in range(N+1,len(DateToIndex)):\n",
    "    df=PartitionedData[i]\n",
    "    newPrices=df['adjcp'].to_numpy()\n",
    "    myPortfolio.ChangePricesTo(newPrices)\n",
    "    NetWorthAfterEachTrade.append(myPortfolio.CalculateNetWorth())\n",
    "    today1=PartitionedData[i]['datadate'][30*i]\n",
    "    todayloop=str(today1)\n",
    "    wts=GetMomentumBasedPriority(PartitionedData,DateToIndex,todayloop)\n",
    "    checknew=GetBalanced(newPrices,wts,myPortfolio.CurrBal)\n",
    "    count=0\n",
    "    for k in range(30):\n",
    "        if(myPortfolio.StocksOwned[k]==checknew[k] & checknew[k]!=0):\n",
    "            count+=1\n",
    "    if(count!=M):\n",
    "        myPortfolio.RebalancePortFolio(wts)\n",
    "  # Change the Prices to the ith Term\n",
    "  # Get NetWorth and store in list\n",
    "  # Check if you need to rebalance Portfolio's Today\n",
    "  # If so, do it by Calling first the GetMomentumBasedPriority function and then passing it to the rebalance function\n"
   ]
  },
  {
   "cell_type": "markdown",
   "metadata": {
    "id": "rHB126bDE2Kn"
   },
   "source": [
    "##Moment of Truth\n",
    "\n",
    "Time to check, if your Program actually works!\n",
    "\n",
    "Plot the data you collected in various ways and see if what you did worked!\n",
    "\n",
    "Feel free to use whichever one of Matplotlib or Seaborn you want to.\n",
    "\n",
    "You should try changing the hyper-parameters to increase(/decrease) your performance!\n"
   ]
  },
  {
   "cell_type": "code",
   "execution_count": 8,
   "metadata": {
    "id": "Z3AVQq09FxYm"
   },
   "outputs": [],
   "source": [
    "def VizualizeData(NetWorthAfterEachTrade):\n",
    "    ypoints=NetWorthAfterEachTrade\n",
    "    plt.figure(figsize=(8,8),dpi=100)\n",
    "    ax=plt.axes()\n",
    "    ax.set_facecolor(\"black\")\n",
    "    plt.plot(ypoints)\n",
    "    plt.show\n",
    "    "
   ]
  },
  {
   "cell_type": "code",
   "execution_count": 9,
   "metadata": {},
   "outputs": [
    {
     "data": {
      "image/png": "[encoded data removed]",
      "text/plain": [
       "<Figure size 800x800 with 1 Axes>"
      ]
     },
     "metadata": {
      "needs_background": "light"
     },
     "output_type": "display_data"
    }
   ],
   "source": [
    "VizualizeData(NetWorthAfterEachTrade)"
   ]
  },
  {
   "cell_type": "markdown",
   "metadata": {
    "id": "cZoWhY8X9BSR"
   },
   "source": [
    "You may use this cell to write about what results you got!"
   ]
  }
 ],
 "metadata": {
  "colab": {
   "collapsed_sections": [],
   "name": "Momentum.ipynb",
   "provenance": []
  },
  "kernelspec": {
   "display_name": "Python 3",
   "language": "python",
   "name": "python3"
  },
  "language_info": {
   "codemirror_mode": {
    "name": "ipython",
    "version": 3
   },
   "file_extension": ".py",
   "mimetype": "text/x-python",
   "name": "python",
   "nbconvert_exporter": "python",
   "pygments_lexer": "ipython3",
   "version": "3.8.8"
  }
 },
 "nbformat": 4,
 "nbformat_minor": 1
}

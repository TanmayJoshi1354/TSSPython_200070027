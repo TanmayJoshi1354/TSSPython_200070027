{
 "cells": [
  {
   "cell_type": "code",
   "execution_count": null,
   "id": "ee69911a",
   "metadata": {},
   "outputs": [],
   "source": [
    "def expo(number,base):\n",
    "    ListOfExponents=[]\n",
    "    while(number>0):\n",
    "        ListOfExponents.append(number%base)\n",
    "        number=int(number/base)\n",
    "    return(ListOfExponents)    "
   ]
  },
  {
   "cell_type": "code",
   "execution_count": null,
   "id": "57d8afc8",
   "metadata": {},
   "outputs": [],
   "source": [
    "def changeBase(number,base1,base2):\n",
    "    ListofExps=expo(number,base1)\n",
    "    List2=[]\n",
    "    sum=0\n",
    "    if(len(ListofExps)==1):\n",
    "        return ListofExps[0]\n",
    "    else:\n",
    "        for i in range(len(ListofExps)):\n",
    "            List2.append(0)\n",
    "            if((ListofExps[i])!=0):\n",
    "                List2[i]=changeBase(i,base1,base2)\n",
    "        for i in range(len(ListofExps)):\n",
    "            sum+=base2**((List2[i]))*(ListofExps[i])\n",
    "        return sum   "
   ]
  },
  {
   "cell_type": "code",
   "execution_count": null,
   "id": "28b6c54b",
   "metadata": {},
   "outputs": [],
   "source": [
    " def Goodstein(m,k):\n",
    "    term=m\n",
    "    i=1\n",
    "    while(i<k and term>0):\n",
    "        term=changeBase(term,i+1,i+2)-1\n",
    "        i=i+1\n",
    "    return term    "
   ]
  },
  {
   "cell_type": "code",
   "execution_count": null,
   "id": "d895ca31",
   "metadata": {},
   "outputs": [],
   "source": [
    "print(\"Calculator for kth term of G(m) :\")\n",
    "m =input(\"Enter m\")\n",
    "k =input(\"Enter k\")\n",
    "Goodstein(int(m),int(k))"
   ]
  },
  {
   "cell_type": "code",
   "execution_count": null,
   "id": "7ceb3045",
   "metadata": {},
   "outputs": [],
   "source": []
  },
  {
   "cell_type": "code",
   "execution_count": null,
   "id": "98f84aa7",
   "metadata": {},
   "outputs": [],
   "source": []
  },
  {
   "cell_type": "code",
   "execution_count": null,
   "id": "021a7834",
   "metadata": {},
   "outputs": [],
   "source": []
  }
 ],
 "metadata": {
  "kernelspec": {
   "display_name": "Python 3",
   "language": "python",
   "name": "python3"
  },
  "language_info": {
   "codemirror_mode": {
    "name": "ipython",
    "version": 3
   },
   "file_extension": ".py",
   "mimetype": "text/x-python",
   "name": "python",
   "nbconvert_exporter": "python",
   "pygments_lexer": "ipython3",
   "version": "3.8.8"
  }
 },
 "nbformat": 4,
 "nbformat_minor": 5
}
